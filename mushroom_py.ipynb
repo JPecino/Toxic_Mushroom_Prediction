{
 "cells": [
  {
   "cell_type": "code",
   "execution_count": 1,
   "metadata": {},
   "outputs": [],
   "source": [
    "import pandas as pd\n",
    "\n",
    "from sklearn.ensemble import RandomForestClassifier\n",
    "from sklearn.neighbors import KNeighborsClassifier\n",
    "from sklearn.preprocessing import StandardScaler\n",
    "from sklearn.model_selection import train_test_split\n",
    "from sklearn.metrics import confusion_matrix, balanced_accuracy_score, accuracy_score, classification_report\n",
    "from sklearn.linear_model import LogisticRegression\n",
    "from sklearn import tree\n",
    "\n",
    "import matplotlib.pyplot as plt \n",
    "\n",
    "import psycopg2\n",
    "\n",
    "import warnings \n",
    "warnings.simplefilter(\"ignore\")\n",
    "\n",
    "%matplotlib inline"
   ]
  },
  {
   "cell_type": "markdown",
   "metadata": {},
   "source": [
    "## Connect to SQL Database"
   ]
  },
  {
   "cell_type": "code",
   "execution_count": 2,
   "metadata": {},
   "outputs": [],
   "source": [
    "def get_db_connection():\n",
    "    conn = psycopg2.connect(host='localhost',\n",
    "                            database='Mushroom_Magic',\n",
    "                            user='postgres',\n",
    "                            password='postgres')\n",
    "    return conn"
   ]
  },
  {
   "cell_type": "code",
   "execution_count": 3,
   "metadata": {},
   "outputs": [],
   "source": [
    "def data():\n",
    "    conn = get_db_connection()\n",
    "    cur = conn.cursor()\n",
    "    cur.execute('SELECT * FROM mushroom_magical_wonderland')\n",
    "    data = cur.fetchall()\n",
    "    list =[]\n",
    "    for row in data:\n",
    "        # print(row)\n",
    "        list.append({\n",
    "            \"class\" : row[0],\n",
    "            \"cap-shape\" :  row[1],\n",
    "            \"cap-surface\" :row[2],\n",
    "            \"cap-color\": row[3],\n",
    "            \"bruises\": row[4],\n",
    "            \"odor\":row[5],\n",
    "            \"gill-attachment\":row[6],\n",
    "            \"gill-spacing\":row[7],\n",
    "            \"gill-size\":row[8],\n",
    "            \"gill-color\":row[9],\n",
    "            \"stalk-shape\":row[10],\n",
    "            \"stalk-root\":row[11],\n",
    "            \"stalk-surface-above-ring\":row[12],\n",
    "            \"stalk-surface-below-ring\":row[13],\n",
    "            \"stalk-color-above-ring\":row[14],\n",
    "            \"stalk-color-below-ring\":row[15],\n",
    "            \"veil-type\":row[16],\n",
    "            \"veil-color\":row[17],\n",
    "            \"ring-number\":row[18],\n",
    "            \"ring-type\":row[19],\n",
    "            \"spore-print-color\":row[20],\n",
    "            \"population\":row[21],\n",
    "            \"habitat\":row[22]\n",
    "\n",
    "        })\n",
    "    cur.close()\n",
    "    conn.close()\n",
    "    return list\n"
   ]
  },
  {
   "cell_type": "code",
   "execution_count": 4,
   "metadata": {},
   "outputs": [],
   "source": [
    "conn = get_db_connection()\n",
    "cur = conn.cursor()\n",
    "query = 'SELECT * FROM mushroom_magical_wonderland'\n"
   ]
  },
  {
   "cell_type": "code",
   "execution_count": 5,
   "metadata": {},
   "outputs": [
    {
     "data": {
      "text/html": [
       "<div>\n",
       "<style scoped>\n",
       "    .dataframe tbody tr th:only-of-type {\n",
       "        vertical-align: middle;\n",
       "    }\n",
       "\n",
       "    .dataframe tbody tr th {\n",
       "        vertical-align: top;\n",
       "    }\n",
       "\n",
       "    .dataframe thead th {\n",
       "        text-align: right;\n",
       "    }\n",
       "</style>\n",
       "<table border=\"1\" class=\"dataframe\">\n",
       "  <thead>\n",
       "    <tr style=\"text-align: right;\">\n",
       "      <th></th>\n",
       "      <th>class</th>\n",
       "      <th>cap-shape</th>\n",
       "      <th>cap-surface</th>\n",
       "      <th>cap-color</th>\n",
       "      <th>bruises</th>\n",
       "      <th>odor</th>\n",
       "      <th>gill-attachment</th>\n",
       "      <th>gill-spacing</th>\n",
       "      <th>gill-size</th>\n",
       "      <th>gill-color</th>\n",
       "      <th>...</th>\n",
       "      <th>stalk-surface-above-ring</th>\n",
       "      <th>stalk-surface-below-ring</th>\n",
       "      <th>stalk-color-above-ring</th>\n",
       "      <th>stalk-color-below-ring</th>\n",
       "      <th>veil-color</th>\n",
       "      <th>ring-number</th>\n",
       "      <th>ring-type</th>\n",
       "      <th>spore-print-color</th>\n",
       "      <th>population</th>\n",
       "      <th>habitat</th>\n",
       "    </tr>\n",
       "  </thead>\n",
       "  <tbody>\n",
       "    <tr>\n",
       "      <th>0</th>\n",
       "      <td>poisonous</td>\n",
       "      <td>convex</td>\n",
       "      <td>smooth</td>\n",
       "      <td>brown</td>\n",
       "      <td>bruises</td>\n",
       "      <td>pungent</td>\n",
       "      <td>free</td>\n",
       "      <td>close</td>\n",
       "      <td>narrow</td>\n",
       "      <td>black</td>\n",
       "      <td>...</td>\n",
       "      <td>smooth</td>\n",
       "      <td>smooth</td>\n",
       "      <td>white</td>\n",
       "      <td>white</td>\n",
       "      <td>white</td>\n",
       "      <td>one</td>\n",
       "      <td>pendant</td>\n",
       "      <td>black</td>\n",
       "      <td>scattered</td>\n",
       "      <td>urban</td>\n",
       "    </tr>\n",
       "    <tr>\n",
       "      <th>1</th>\n",
       "      <td>edible</td>\n",
       "      <td>convex</td>\n",
       "      <td>smooth</td>\n",
       "      <td>yellow</td>\n",
       "      <td>bruises</td>\n",
       "      <td>almond</td>\n",
       "      <td>free</td>\n",
       "      <td>close</td>\n",
       "      <td>broad</td>\n",
       "      <td>black</td>\n",
       "      <td>...</td>\n",
       "      <td>smooth</td>\n",
       "      <td>smooth</td>\n",
       "      <td>white</td>\n",
       "      <td>white</td>\n",
       "      <td>white</td>\n",
       "      <td>one</td>\n",
       "      <td>pendant</td>\n",
       "      <td>brown</td>\n",
       "      <td>numerous</td>\n",
       "      <td>grasses</td>\n",
       "    </tr>\n",
       "    <tr>\n",
       "      <th>2</th>\n",
       "      <td>edible</td>\n",
       "      <td>bell</td>\n",
       "      <td>smooth</td>\n",
       "      <td>white</td>\n",
       "      <td>bruises</td>\n",
       "      <td>anise</td>\n",
       "      <td>free</td>\n",
       "      <td>close</td>\n",
       "      <td>broad</td>\n",
       "      <td>brown</td>\n",
       "      <td>...</td>\n",
       "      <td>smooth</td>\n",
       "      <td>smooth</td>\n",
       "      <td>white</td>\n",
       "      <td>white</td>\n",
       "      <td>white</td>\n",
       "      <td>one</td>\n",
       "      <td>pendant</td>\n",
       "      <td>brown</td>\n",
       "      <td>numerous</td>\n",
       "      <td>meadows</td>\n",
       "    </tr>\n",
       "    <tr>\n",
       "      <th>3</th>\n",
       "      <td>poisonous</td>\n",
       "      <td>convex</td>\n",
       "      <td>scaly</td>\n",
       "      <td>white</td>\n",
       "      <td>bruises</td>\n",
       "      <td>pungent</td>\n",
       "      <td>free</td>\n",
       "      <td>close</td>\n",
       "      <td>narrow</td>\n",
       "      <td>brown</td>\n",
       "      <td>...</td>\n",
       "      <td>smooth</td>\n",
       "      <td>smooth</td>\n",
       "      <td>white</td>\n",
       "      <td>white</td>\n",
       "      <td>white</td>\n",
       "      <td>one</td>\n",
       "      <td>pendant</td>\n",
       "      <td>black</td>\n",
       "      <td>scattered</td>\n",
       "      <td>urban</td>\n",
       "    </tr>\n",
       "    <tr>\n",
       "      <th>4</th>\n",
       "      <td>edible</td>\n",
       "      <td>convex</td>\n",
       "      <td>smooth</td>\n",
       "      <td>gray</td>\n",
       "      <td>no_bruises</td>\n",
       "      <td>none</td>\n",
       "      <td>free</td>\n",
       "      <td>crowded</td>\n",
       "      <td>broad</td>\n",
       "      <td>black</td>\n",
       "      <td>...</td>\n",
       "      <td>smooth</td>\n",
       "      <td>smooth</td>\n",
       "      <td>white</td>\n",
       "      <td>white</td>\n",
       "      <td>white</td>\n",
       "      <td>one</td>\n",
       "      <td>evanescent</td>\n",
       "      <td>brown</td>\n",
       "      <td>abundant</td>\n",
       "      <td>grasses</td>\n",
       "    </tr>\n",
       "  </tbody>\n",
       "</table>\n",
       "<p>5 rows × 22 columns</p>\n",
       "</div>"
      ],
      "text/plain": [
       "       class cap-shape cap-surface cap-color     bruises     odor  \\\n",
       "0  poisonous    convex      smooth     brown     bruises  pungent   \n",
       "1     edible    convex      smooth    yellow     bruises   almond   \n",
       "2     edible      bell      smooth     white     bruises    anise   \n",
       "3  poisonous    convex       scaly     white     bruises  pungent   \n",
       "4     edible    convex      smooth      gray  no_bruises     none   \n",
       "\n",
       "  gill-attachment gill-spacing gill-size gill-color  ...  \\\n",
       "0            free        close    narrow      black  ...   \n",
       "1            free        close     broad      black  ...   \n",
       "2            free        close     broad      brown  ...   \n",
       "3            free        close    narrow      brown  ...   \n",
       "4            free      crowded     broad      black  ...   \n",
       "\n",
       "  stalk-surface-above-ring stalk-surface-below-ring stalk-color-above-ring  \\\n",
       "0                   smooth                   smooth                  white   \n",
       "1                   smooth                   smooth                  white   \n",
       "2                   smooth                   smooth                  white   \n",
       "3                   smooth                   smooth                  white   \n",
       "4                   smooth                   smooth                  white   \n",
       "\n",
       "  stalk-color-below-ring veil-color ring-number   ring-type spore-print-color  \\\n",
       "0                  white      white         one     pendant             black   \n",
       "1                  white      white         one     pendant             brown   \n",
       "2                  white      white         one     pendant             brown   \n",
       "3                  white      white         one     pendant             black   \n",
       "4                  white      white         one  evanescent             brown   \n",
       "\n",
       "  population  habitat  \n",
       "0  scattered    urban  \n",
       "1   numerous  grasses  \n",
       "2   numerous  meadows  \n",
       "3  scattered    urban  \n",
       "4   abundant  grasses  \n",
       "\n",
       "[5 rows x 22 columns]"
      ]
     },
     "execution_count": 5,
     "metadata": {},
     "output_type": "execute_result"
    }
   ],
   "source": [
    "df = pd.read_sql(query, conn)\n",
    "df = df.drop(columns='veil-type')\n",
    "df.head()"
   ]
  },
  {
   "cell_type": "code",
   "execution_count": 6,
   "metadata": {},
   "outputs": [],
   "source": [
    "y = df['class']\n",
    "X = df.drop(columns='class')"
   ]
  },
  {
   "cell_type": "code",
   "execution_count": 7,
   "metadata": {},
   "outputs": [
    {
     "data": {
      "text/html": [
       "<div>\n",
       "<style scoped>\n",
       "    .dataframe tbody tr th:only-of-type {\n",
       "        vertical-align: middle;\n",
       "    }\n",
       "\n",
       "    .dataframe tbody tr th {\n",
       "        vertical-align: top;\n",
       "    }\n",
       "\n",
       "    .dataframe thead th {\n",
       "        text-align: right;\n",
       "    }\n",
       "</style>\n",
       "<table border=\"1\" class=\"dataframe\">\n",
       "  <thead>\n",
       "    <tr style=\"text-align: right;\">\n",
       "      <th></th>\n",
       "      <th>cap-shape</th>\n",
       "      <th>cap-surface</th>\n",
       "      <th>cap-color</th>\n",
       "      <th>bruises</th>\n",
       "      <th>odor</th>\n",
       "      <th>gill-attachment</th>\n",
       "      <th>gill-spacing</th>\n",
       "      <th>gill-size</th>\n",
       "      <th>gill-color</th>\n",
       "      <th>stalk-shape</th>\n",
       "      <th>...</th>\n",
       "      <th>stalk-surface-above-ring</th>\n",
       "      <th>stalk-surface-below-ring</th>\n",
       "      <th>stalk-color-above-ring</th>\n",
       "      <th>stalk-color-below-ring</th>\n",
       "      <th>veil-color</th>\n",
       "      <th>ring-number</th>\n",
       "      <th>ring-type</th>\n",
       "      <th>spore-print-color</th>\n",
       "      <th>population</th>\n",
       "      <th>habitat</th>\n",
       "    </tr>\n",
       "  </thead>\n",
       "  <tbody>\n",
       "    <tr>\n",
       "      <th>0</th>\n",
       "      <td>convex</td>\n",
       "      <td>smooth</td>\n",
       "      <td>brown</td>\n",
       "      <td>bruises</td>\n",
       "      <td>pungent</td>\n",
       "      <td>free</td>\n",
       "      <td>close</td>\n",
       "      <td>narrow</td>\n",
       "      <td>black</td>\n",
       "      <td>enlarging</td>\n",
       "      <td>...</td>\n",
       "      <td>smooth</td>\n",
       "      <td>smooth</td>\n",
       "      <td>white</td>\n",
       "      <td>white</td>\n",
       "      <td>white</td>\n",
       "      <td>one</td>\n",
       "      <td>pendant</td>\n",
       "      <td>black</td>\n",
       "      <td>scattered</td>\n",
       "      <td>urban</td>\n",
       "    </tr>\n",
       "    <tr>\n",
       "      <th>1</th>\n",
       "      <td>convex</td>\n",
       "      <td>smooth</td>\n",
       "      <td>yellow</td>\n",
       "      <td>bruises</td>\n",
       "      <td>almond</td>\n",
       "      <td>free</td>\n",
       "      <td>close</td>\n",
       "      <td>broad</td>\n",
       "      <td>black</td>\n",
       "      <td>enlarging</td>\n",
       "      <td>...</td>\n",
       "      <td>smooth</td>\n",
       "      <td>smooth</td>\n",
       "      <td>white</td>\n",
       "      <td>white</td>\n",
       "      <td>white</td>\n",
       "      <td>one</td>\n",
       "      <td>pendant</td>\n",
       "      <td>brown</td>\n",
       "      <td>numerous</td>\n",
       "      <td>grasses</td>\n",
       "    </tr>\n",
       "    <tr>\n",
       "      <th>2</th>\n",
       "      <td>bell</td>\n",
       "      <td>smooth</td>\n",
       "      <td>white</td>\n",
       "      <td>bruises</td>\n",
       "      <td>anise</td>\n",
       "      <td>free</td>\n",
       "      <td>close</td>\n",
       "      <td>broad</td>\n",
       "      <td>brown</td>\n",
       "      <td>enlarging</td>\n",
       "      <td>...</td>\n",
       "      <td>smooth</td>\n",
       "      <td>smooth</td>\n",
       "      <td>white</td>\n",
       "      <td>white</td>\n",
       "      <td>white</td>\n",
       "      <td>one</td>\n",
       "      <td>pendant</td>\n",
       "      <td>brown</td>\n",
       "      <td>numerous</td>\n",
       "      <td>meadows</td>\n",
       "    </tr>\n",
       "    <tr>\n",
       "      <th>3</th>\n",
       "      <td>convex</td>\n",
       "      <td>scaly</td>\n",
       "      <td>white</td>\n",
       "      <td>bruises</td>\n",
       "      <td>pungent</td>\n",
       "      <td>free</td>\n",
       "      <td>close</td>\n",
       "      <td>narrow</td>\n",
       "      <td>brown</td>\n",
       "      <td>enlarging</td>\n",
       "      <td>...</td>\n",
       "      <td>smooth</td>\n",
       "      <td>smooth</td>\n",
       "      <td>white</td>\n",
       "      <td>white</td>\n",
       "      <td>white</td>\n",
       "      <td>one</td>\n",
       "      <td>pendant</td>\n",
       "      <td>black</td>\n",
       "      <td>scattered</td>\n",
       "      <td>urban</td>\n",
       "    </tr>\n",
       "    <tr>\n",
       "      <th>4</th>\n",
       "      <td>convex</td>\n",
       "      <td>smooth</td>\n",
       "      <td>gray</td>\n",
       "      <td>no_bruises</td>\n",
       "      <td>none</td>\n",
       "      <td>free</td>\n",
       "      <td>crowded</td>\n",
       "      <td>broad</td>\n",
       "      <td>black</td>\n",
       "      <td>tapering</td>\n",
       "      <td>...</td>\n",
       "      <td>smooth</td>\n",
       "      <td>smooth</td>\n",
       "      <td>white</td>\n",
       "      <td>white</td>\n",
       "      <td>white</td>\n",
       "      <td>one</td>\n",
       "      <td>evanescent</td>\n",
       "      <td>brown</td>\n",
       "      <td>abundant</td>\n",
       "      <td>grasses</td>\n",
       "    </tr>\n",
       "  </tbody>\n",
       "</table>\n",
       "<p>5 rows × 21 columns</p>\n",
       "</div>"
      ],
      "text/plain": [
       "  cap-shape cap-surface cap-color     bruises     odor gill-attachment  \\\n",
       "0    convex      smooth     brown     bruises  pungent            free   \n",
       "1    convex      smooth    yellow     bruises   almond            free   \n",
       "2      bell      smooth     white     bruises    anise            free   \n",
       "3    convex       scaly     white     bruises  pungent            free   \n",
       "4    convex      smooth      gray  no_bruises     none            free   \n",
       "\n",
       "  gill-spacing gill-size gill-color stalk-shape  ... stalk-surface-above-ring  \\\n",
       "0        close    narrow      black   enlarging  ...                   smooth   \n",
       "1        close     broad      black   enlarging  ...                   smooth   \n",
       "2        close     broad      brown   enlarging  ...                   smooth   \n",
       "3        close    narrow      brown   enlarging  ...                   smooth   \n",
       "4      crowded     broad      black    tapering  ...                   smooth   \n",
       "\n",
       "  stalk-surface-below-ring stalk-color-above-ring stalk-color-below-ring  \\\n",
       "0                   smooth                  white                  white   \n",
       "1                   smooth                  white                  white   \n",
       "2                   smooth                  white                  white   \n",
       "3                   smooth                  white                  white   \n",
       "4                   smooth                  white                  white   \n",
       "\n",
       "  veil-color ring-number   ring-type spore-print-color population  habitat  \n",
       "0      white         one     pendant             black  scattered    urban  \n",
       "1      white         one     pendant             brown   numerous  grasses  \n",
       "2      white         one     pendant             brown   numerous  meadows  \n",
       "3      white         one     pendant             black  scattered    urban  \n",
       "4      white         one  evanescent             brown   abundant  grasses  \n",
       "\n",
       "[5 rows x 21 columns]"
      ]
     },
     "execution_count": 7,
     "metadata": {},
     "output_type": "execute_result"
    }
   ],
   "source": [
    "X[:5]"
   ]
  },
  {
   "cell_type": "code",
   "execution_count": 8,
   "metadata": {},
   "outputs": [
    {
     "data": {
      "text/plain": [
       "0    poisonous\n",
       "1       edible\n",
       "2       edible\n",
       "3    poisonous\n",
       "4       edible\n",
       "Name: class, dtype: object"
      ]
     },
     "execution_count": 8,
     "metadata": {},
     "output_type": "execute_result"
    }
   ],
   "source": [
    "y[:5]"
   ]
  },
  {
   "cell_type": "code",
   "execution_count": 9,
   "metadata": {},
   "outputs": [],
   "source": [
    "X = pd.get_dummies(X)"
   ]
  },
  {
   "cell_type": "code",
   "execution_count": 10,
   "metadata": {},
   "outputs": [
    {
     "data": {
      "text/html": [
       "<div>\n",
       "<style scoped>\n",
       "    .dataframe tbody tr th:only-of-type {\n",
       "        vertical-align: middle;\n",
       "    }\n",
       "\n",
       "    .dataframe tbody tr th {\n",
       "        vertical-align: top;\n",
       "    }\n",
       "\n",
       "    .dataframe thead th {\n",
       "        text-align: right;\n",
       "    }\n",
       "</style>\n",
       "<table border=\"1\" class=\"dataframe\">\n",
       "  <thead>\n",
       "    <tr style=\"text-align: right;\">\n",
       "      <th></th>\n",
       "      <th>cap-shape_bell</th>\n",
       "      <th>cap-shape_conical</th>\n",
       "      <th>cap-shape_convex</th>\n",
       "      <th>cap-shape_flat</th>\n",
       "      <th>cap-shape_knobbed</th>\n",
       "      <th>cap-shape_sunken</th>\n",
       "      <th>cap-surface_fibrous</th>\n",
       "      <th>cap-surface_grooves</th>\n",
       "      <th>cap-surface_scaly</th>\n",
       "      <th>cap-surface_smooth</th>\n",
       "      <th>...</th>\n",
       "      <th>population_scattered</th>\n",
       "      <th>population_several</th>\n",
       "      <th>population_solitary</th>\n",
       "      <th>habitat_grasses</th>\n",
       "      <th>habitat_leaves</th>\n",
       "      <th>habitat_meadows</th>\n",
       "      <th>habitat_paths</th>\n",
       "      <th>habitat_urban</th>\n",
       "      <th>habitat_waste</th>\n",
       "      <th>habitat_woods</th>\n",
       "    </tr>\n",
       "  </thead>\n",
       "  <tbody>\n",
       "    <tr>\n",
       "      <th>0</th>\n",
       "      <td>0</td>\n",
       "      <td>0</td>\n",
       "      <td>1</td>\n",
       "      <td>0</td>\n",
       "      <td>0</td>\n",
       "      <td>0</td>\n",
       "      <td>0</td>\n",
       "      <td>0</td>\n",
       "      <td>0</td>\n",
       "      <td>1</td>\n",
       "      <td>...</td>\n",
       "      <td>1</td>\n",
       "      <td>0</td>\n",
       "      <td>0</td>\n",
       "      <td>0</td>\n",
       "      <td>0</td>\n",
       "      <td>0</td>\n",
       "      <td>0</td>\n",
       "      <td>1</td>\n",
       "      <td>0</td>\n",
       "      <td>0</td>\n",
       "    </tr>\n",
       "    <tr>\n",
       "      <th>1</th>\n",
       "      <td>0</td>\n",
       "      <td>0</td>\n",
       "      <td>1</td>\n",
       "      <td>0</td>\n",
       "      <td>0</td>\n",
       "      <td>0</td>\n",
       "      <td>0</td>\n",
       "      <td>0</td>\n",
       "      <td>0</td>\n",
       "      <td>1</td>\n",
       "      <td>...</td>\n",
       "      <td>0</td>\n",
       "      <td>0</td>\n",
       "      <td>0</td>\n",
       "      <td>1</td>\n",
       "      <td>0</td>\n",
       "      <td>0</td>\n",
       "      <td>0</td>\n",
       "      <td>0</td>\n",
       "      <td>0</td>\n",
       "      <td>0</td>\n",
       "    </tr>\n",
       "    <tr>\n",
       "      <th>2</th>\n",
       "      <td>1</td>\n",
       "      <td>0</td>\n",
       "      <td>0</td>\n",
       "      <td>0</td>\n",
       "      <td>0</td>\n",
       "      <td>0</td>\n",
       "      <td>0</td>\n",
       "      <td>0</td>\n",
       "      <td>0</td>\n",
       "      <td>1</td>\n",
       "      <td>...</td>\n",
       "      <td>0</td>\n",
       "      <td>0</td>\n",
       "      <td>0</td>\n",
       "      <td>0</td>\n",
       "      <td>0</td>\n",
       "      <td>1</td>\n",
       "      <td>0</td>\n",
       "      <td>0</td>\n",
       "      <td>0</td>\n",
       "      <td>0</td>\n",
       "    </tr>\n",
       "    <tr>\n",
       "      <th>3</th>\n",
       "      <td>0</td>\n",
       "      <td>0</td>\n",
       "      <td>1</td>\n",
       "      <td>0</td>\n",
       "      <td>0</td>\n",
       "      <td>0</td>\n",
       "      <td>0</td>\n",
       "      <td>0</td>\n",
       "      <td>1</td>\n",
       "      <td>0</td>\n",
       "      <td>...</td>\n",
       "      <td>1</td>\n",
       "      <td>0</td>\n",
       "      <td>0</td>\n",
       "      <td>0</td>\n",
       "      <td>0</td>\n",
       "      <td>0</td>\n",
       "      <td>0</td>\n",
       "      <td>1</td>\n",
       "      <td>0</td>\n",
       "      <td>0</td>\n",
       "    </tr>\n",
       "    <tr>\n",
       "      <th>4</th>\n",
       "      <td>0</td>\n",
       "      <td>0</td>\n",
       "      <td>1</td>\n",
       "      <td>0</td>\n",
       "      <td>0</td>\n",
       "      <td>0</td>\n",
       "      <td>0</td>\n",
       "      <td>0</td>\n",
       "      <td>0</td>\n",
       "      <td>1</td>\n",
       "      <td>...</td>\n",
       "      <td>0</td>\n",
       "      <td>0</td>\n",
       "      <td>0</td>\n",
       "      <td>1</td>\n",
       "      <td>0</td>\n",
       "      <td>0</td>\n",
       "      <td>0</td>\n",
       "      <td>0</td>\n",
       "      <td>0</td>\n",
       "      <td>0</td>\n",
       "    </tr>\n",
       "  </tbody>\n",
       "</table>\n",
       "<p>5 rows × 116 columns</p>\n",
       "</div>"
      ],
      "text/plain": [
       "   cap-shape_bell  cap-shape_conical  cap-shape_convex  cap-shape_flat  \\\n",
       "0               0                  0                 1               0   \n",
       "1               0                  0                 1               0   \n",
       "2               1                  0                 0               0   \n",
       "3               0                  0                 1               0   \n",
       "4               0                  0                 1               0   \n",
       "\n",
       "   cap-shape_knobbed  cap-shape_sunken  cap-surface_fibrous  \\\n",
       "0                  0                 0                    0   \n",
       "1                  0                 0                    0   \n",
       "2                  0                 0                    0   \n",
       "3                  0                 0                    0   \n",
       "4                  0                 0                    0   \n",
       "\n",
       "   cap-surface_grooves  cap-surface_scaly  cap-surface_smooth  ...  \\\n",
       "0                    0                  0                   1  ...   \n",
       "1                    0                  0                   1  ...   \n",
       "2                    0                  0                   1  ...   \n",
       "3                    0                  1                   0  ...   \n",
       "4                    0                  0                   1  ...   \n",
       "\n",
       "   population_scattered  population_several  population_solitary  \\\n",
       "0                     1                   0                    0   \n",
       "1                     0                   0                    0   \n",
       "2                     0                   0                    0   \n",
       "3                     1                   0                    0   \n",
       "4                     0                   0                    0   \n",
       "\n",
       "   habitat_grasses  habitat_leaves  habitat_meadows  habitat_paths  \\\n",
       "0                0               0                0              0   \n",
       "1                1               0                0              0   \n",
       "2                0               0                1              0   \n",
       "3                0               0                0              0   \n",
       "4                1               0                0              0   \n",
       "\n",
       "   habitat_urban  habitat_waste  habitat_woods  \n",
       "0              1              0              0  \n",
       "1              0              0              0  \n",
       "2              0              0              0  \n",
       "3              1              0              0  \n",
       "4              0              0              0  \n",
       "\n",
       "[5 rows x 116 columns]"
      ]
     },
     "execution_count": 10,
     "metadata": {},
     "output_type": "execute_result"
    }
   ],
   "source": [
    "X.head()"
   ]
  },
  {
   "cell_type": "code",
   "execution_count": 11,
   "metadata": {},
   "outputs": [],
   "source": [
    "X_train, X_test, y_train, y_test = train_test_split(X, y, random_state=1)"
   ]
  },
  {
   "cell_type": "code",
   "execution_count": 12,
   "metadata": {},
   "outputs": [
    {
     "data": {
      "text/plain": [
       "(6093, 116)"
      ]
     },
     "execution_count": 12,
     "metadata": {},
     "output_type": "execute_result"
    }
   ],
   "source": [
    "X_train.shape"
   ]
  },
  {
   "cell_type": "code",
   "execution_count": 13,
   "metadata": {},
   "outputs": [
    {
     "data": {
      "text/plain": [
       "(2031, 116)"
      ]
     },
     "execution_count": 13,
     "metadata": {},
     "output_type": "execute_result"
    }
   ],
   "source": [
    "X_test.shape"
   ]
  },
  {
   "cell_type": "code",
   "execution_count": 14,
   "metadata": {},
   "outputs": [],
   "source": [
    "scaler = StandardScaler()\n",
    "\n",
    "X_scaler = scaler.fit(X_train)\n",
    "\n",
    "X_train_scaled = X_scaler.transform(X_train)\n",
    "X_test_scaled = X_scaler.transform(X_test)"
   ]
  },
  {
   "cell_type": "markdown",
   "metadata": {},
   "source": [
    "## Fitting the KNeighbors Model"
   ]
  },
  {
   "cell_type": "code",
   "execution_count": 15,
   "metadata": {},
   "outputs": [
    {
     "data": {
      "text/html": [
       "<style>#sk-container-id-1 {color: black;background-color: white;}#sk-container-id-1 pre{padding: 0;}#sk-container-id-1 div.sk-toggleable {background-color: white;}#sk-container-id-1 label.sk-toggleable__label {cursor: pointer;display: block;width: 100%;margin-bottom: 0;padding: 0.3em;box-sizing: border-box;text-align: center;}#sk-container-id-1 label.sk-toggleable__label-arrow:before {content: \"▸\";float: left;margin-right: 0.25em;color: #696969;}#sk-container-id-1 label.sk-toggleable__label-arrow:hover:before {color: black;}#sk-container-id-1 div.sk-estimator:hover label.sk-toggleable__label-arrow:before {color: black;}#sk-container-id-1 div.sk-toggleable__content {max-height: 0;max-width: 0;overflow: hidden;text-align: left;background-color: #f0f8ff;}#sk-container-id-1 div.sk-toggleable__content pre {margin: 0.2em;color: black;border-radius: 0.25em;background-color: #f0f8ff;}#sk-container-id-1 input.sk-toggleable__control:checked~div.sk-toggleable__content {max-height: 200px;max-width: 100%;overflow: auto;}#sk-container-id-1 input.sk-toggleable__control:checked~label.sk-toggleable__label-arrow:before {content: \"▾\";}#sk-container-id-1 div.sk-estimator input.sk-toggleable__control:checked~label.sk-toggleable__label {background-color: #d4ebff;}#sk-container-id-1 div.sk-label input.sk-toggleable__control:checked~label.sk-toggleable__label {background-color: #d4ebff;}#sk-container-id-1 input.sk-hidden--visually {border: 0;clip: rect(1px 1px 1px 1px);clip: rect(1px, 1px, 1px, 1px);height: 1px;margin: -1px;overflow: hidden;padding: 0;position: absolute;width: 1px;}#sk-container-id-1 div.sk-estimator {font-family: monospace;background-color: #f0f8ff;border: 1px dotted black;border-radius: 0.25em;box-sizing: border-box;margin-bottom: 0.5em;}#sk-container-id-1 div.sk-estimator:hover {background-color: #d4ebff;}#sk-container-id-1 div.sk-parallel-item::after {content: \"\";width: 100%;border-bottom: 1px solid gray;flex-grow: 1;}#sk-container-id-1 div.sk-label:hover label.sk-toggleable__label {background-color: #d4ebff;}#sk-container-id-1 div.sk-serial::before {content: \"\";position: absolute;border-left: 1px solid gray;box-sizing: border-box;top: 0;bottom: 0;left: 50%;z-index: 0;}#sk-container-id-1 div.sk-serial {display: flex;flex-direction: column;align-items: center;background-color: white;padding-right: 0.2em;padding-left: 0.2em;position: relative;}#sk-container-id-1 div.sk-item {position: relative;z-index: 1;}#sk-container-id-1 div.sk-parallel {display: flex;align-items: stretch;justify-content: center;background-color: white;position: relative;}#sk-container-id-1 div.sk-item::before, #sk-container-id-1 div.sk-parallel-item::before {content: \"\";position: absolute;border-left: 1px solid gray;box-sizing: border-box;top: 0;bottom: 0;left: 50%;z-index: -1;}#sk-container-id-1 div.sk-parallel-item {display: flex;flex-direction: column;z-index: 1;position: relative;background-color: white;}#sk-container-id-1 div.sk-parallel-item:first-child::after {align-self: flex-end;width: 50%;}#sk-container-id-1 div.sk-parallel-item:last-child::after {align-self: flex-start;width: 50%;}#sk-container-id-1 div.sk-parallel-item:only-child::after {width: 0;}#sk-container-id-1 div.sk-dashed-wrapped {border: 1px dashed gray;margin: 0 0.4em 0.5em 0.4em;box-sizing: border-box;padding-bottom: 0.4em;background-color: white;}#sk-container-id-1 div.sk-label label {font-family: monospace;font-weight: bold;display: inline-block;line-height: 1.2em;}#sk-container-id-1 div.sk-label-container {text-align: center;}#sk-container-id-1 div.sk-container {/* jupyter's `normalize.less` sets `[hidden] { display: none; }` but bootstrap.min.css set `[hidden] { display: none !important; }` so we also need the `!important` here to be able to override the default hidden behavior on the sphinx rendered scikit-learn.org. See: https://github.com/scikit-learn/scikit-learn/issues/21755 */display: inline-block !important;position: relative;}#sk-container-id-1 div.sk-text-repr-fallback {display: none;}</style><div id=\"sk-container-id-1\" class=\"sk-top-container\"><div class=\"sk-text-repr-fallback\"><pre>KNeighborsClassifier(n_neighbors=3)</pre><b>In a Jupyter environment, please rerun this cell to show the HTML representation or trust the notebook. <br />On GitHub, the HTML representation is unable to render, please try loading this page with nbviewer.org.</b></div><div class=\"sk-container\" hidden><div class=\"sk-item\"><div class=\"sk-estimator sk-toggleable\"><input class=\"sk-toggleable__control sk-hidden--visually\" id=\"sk-estimator-id-1\" type=\"checkbox\" checked><label for=\"sk-estimator-id-1\" class=\"sk-toggleable__label sk-toggleable__label-arrow\">KNeighborsClassifier</label><div class=\"sk-toggleable__content\"><pre>KNeighborsClassifier(n_neighbors=3)</pre></div></div></div></div></div>"
      ],
      "text/plain": [
       "KNeighborsClassifier(n_neighbors=3)"
      ]
     },
     "execution_count": 15,
     "metadata": {},
     "output_type": "execute_result"
    }
   ],
   "source": [
    "model = KNeighborsClassifier(n_neighbors=3)\n",
    "model.fit(X_train_scaled, y_train)"
   ]
  },
  {
   "cell_type": "code",
   "execution_count": 16,
   "metadata": {},
   "outputs": [
    {
     "data": {
      "text/plain": [
       "array(['edible', 'poisonous', 'poisonous', ..., 'poisonous', 'poisonous',\n",
       "       'poisonous'], dtype=object)"
      ]
     },
     "execution_count": 16,
     "metadata": {},
     "output_type": "execute_result"
    }
   ],
   "source": [
    "y_pred = model.predict(X_test_scaled)\n",
    "y_pred"
   ]
  },
  {
   "cell_type": "code",
   "execution_count": 17,
   "metadata": {},
   "outputs": [
    {
     "data": {
      "text/plain": [
       "array([[1020,    2],\n",
       "       [   0, 1009]], dtype=int64)"
      ]
     },
     "execution_count": 17,
     "metadata": {},
     "output_type": "execute_result"
    }
   ],
   "source": [
    "confusion_matrix(y_pred,y_test)"
   ]
  },
  {
   "cell_type": "code",
   "execution_count": 18,
   "metadata": {},
   "outputs": [
    {
     "name": "stdout",
     "output_type": "stream",
     "text": [
      "              precision    recall  f1-score   support\n",
      "\n",
      "      edible       1.00      1.00      1.00      1022\n",
      "   poisonous       1.00      1.00      1.00      1009\n",
      "\n",
      "    accuracy                           1.00      2031\n",
      "   macro avg       1.00      1.00      1.00      2031\n",
      "weighted avg       1.00      1.00      1.00      2031\n",
      "\n"
     ]
    }
   ],
   "source": [
    "print(classification_report(y_pred,y_test))"
   ]
  },
  {
   "cell_type": "code",
   "execution_count": 19,
   "metadata": {},
   "outputs": [
    {
     "data": {
      "text/plain": [
       "0.9990108803165183"
      ]
     },
     "execution_count": 19,
     "metadata": {},
     "output_type": "execute_result"
    }
   ],
   "source": [
    "balanced_accuracy_score(y_test, y_pred)"
   ]
  },
  {
   "cell_type": "code",
   "execution_count": 20,
   "metadata": {},
   "outputs": [
    {
     "data": {
      "text/plain": [
       "array(['poisonous', 'edible', 'poisonous', ..., 'poisonous', 'edible',\n",
       "       'poisonous'], dtype=object)"
      ]
     },
     "execution_count": 20,
     "metadata": {},
     "output_type": "execute_result"
    }
   ],
   "source": [
    "y_pred_train = model.predict(X_train_scaled)\n",
    "y_pred_train"
   ]
  },
  {
   "cell_type": "code",
   "execution_count": 21,
   "metadata": {},
   "outputs": [
    {
     "data": {
      "text/plain": [
       "array([[3188,    1],\n",
       "       [   0, 2904]], dtype=int64)"
      ]
     },
     "execution_count": 21,
     "metadata": {},
     "output_type": "execute_result"
    }
   ],
   "source": [
    "confusion_matrix(y_pred_train,y_train)"
   ]
  },
  {
   "cell_type": "code",
   "execution_count": 22,
   "metadata": {},
   "outputs": [
    {
     "name": "stdout",
     "output_type": "stream",
     "text": [
      "              precision    recall  f1-score   support\n",
      "\n",
      "      edible       1.00      1.00      1.00      3189\n",
      "   poisonous       1.00      1.00      1.00      2904\n",
      "\n",
      "    accuracy                           1.00      6093\n",
      "   macro avg       1.00      1.00      1.00      6093\n",
      "weighted avg       1.00      1.00      1.00      6093\n",
      "\n"
     ]
    }
   ],
   "source": [
    "print(classification_report(y_pred_train,y_train))"
   ]
  },
  {
   "cell_type": "code",
   "execution_count": 23,
   "metadata": {},
   "outputs": [
    {
     "data": {
      "text/plain": [
       "0.999827882960413"
      ]
     },
     "execution_count": 23,
     "metadata": {},
     "output_type": "execute_result"
    }
   ],
   "source": [
    "balanced_accuracy_score(y_train, y_pred_train)"
   ]
  },
  {
   "cell_type": "markdown",
   "metadata": {},
   "source": [
    "## Fitting the Random Forest Model"
   ]
  },
  {
   "cell_type": "code",
   "execution_count": 24,
   "metadata": {},
   "outputs": [],
   "source": [
    "rf_model = RandomForestClassifier(n_estimators=500, random_state=70)\n",
    "rf_model = rf_model.fit(X_train_scaled, y_train)"
   ]
  },
  {
   "cell_type": "code",
   "execution_count": 25,
   "metadata": {},
   "outputs": [],
   "source": [
    "rf_pred = rf_model.predict(X_test_scaled)"
   ]
  },
  {
   "cell_type": "code",
   "execution_count": 26,
   "metadata": {},
   "outputs": [
    {
     "name": "stdout",
     "output_type": "stream",
     "text": [
      "Confusion Matrix\n"
     ]
    },
    {
     "data": {
      "text/html": [
       "<div>\n",
       "<style scoped>\n",
       "    .dataframe tbody tr th:only-of-type {\n",
       "        vertical-align: middle;\n",
       "    }\n",
       "\n",
       "    .dataframe tbody tr th {\n",
       "        vertical-align: top;\n",
       "    }\n",
       "\n",
       "    .dataframe thead th {\n",
       "        text-align: right;\n",
       "    }\n",
       "</style>\n",
       "<table border=\"1\" class=\"dataframe\">\n",
       "  <thead>\n",
       "    <tr style=\"text-align: right;\">\n",
       "      <th></th>\n",
       "      <th>Predicted 0</th>\n",
       "      <th>Predicted 1</th>\n",
       "    </tr>\n",
       "  </thead>\n",
       "  <tbody>\n",
       "    <tr>\n",
       "      <th>Actual 0</th>\n",
       "      <td>1020</td>\n",
       "      <td>0</td>\n",
       "    </tr>\n",
       "    <tr>\n",
       "      <th>Actual 1</th>\n",
       "      <td>0</td>\n",
       "      <td>1011</td>\n",
       "    </tr>\n",
       "  </tbody>\n",
       "</table>\n",
       "</div>"
      ],
      "text/plain": [
       "          Predicted 0  Predicted 1\n",
       "Actual 0         1020            0\n",
       "Actual 1            0         1011"
      ]
     },
     "metadata": {},
     "output_type": "display_data"
    },
    {
     "name": "stdout",
     "output_type": "stream",
     "text": [
      "Accuracy Score : 1.0\n",
      "Classification Report\n",
      "              precision    recall  f1-score   support\n",
      "\n",
      "      edible       1.00      1.00      1.00      1020\n",
      "   poisonous       1.00      1.00      1.00      1011\n",
      "\n",
      "    accuracy                           1.00      2031\n",
      "   macro avg       1.00      1.00      1.00      2031\n",
      "weighted avg       1.00      1.00      1.00      2031\n",
      "\n"
     ]
    }
   ],
   "source": [
    "cm = confusion_matrix(y_test, rf_pred)\n",
    "cm_df = pd.DataFrame(\n",
    "    cm, index=[\"Actual 0\", \"Actual 1\"], columns=[\"Predicted 0\", \"Predicted 1\"]\n",
    ")\n",
    "\n",
    "acc_score = accuracy_score(y_test, rf_pred)\n",
    "\n",
    "print(\"Confusion Matrix\")\n",
    "display(cm_df)\n",
    "print(f\"Accuracy Score : {acc_score}\")\n",
    "print(\"Classification Report\")\n",
    "print(classification_report(y_test, rf_pred))"
   ]
  },
  {
   "cell_type": "markdown",
   "metadata": {},
   "source": [
    "## Decision Tree Model"
   ]
  },
  {
   "cell_type": "code",
   "execution_count": 27,
   "metadata": {},
   "outputs": [],
   "source": [
    "dt_model = tree.DecisionTreeClassifier()"
   ]
  },
  {
   "cell_type": "code",
   "execution_count": 28,
   "metadata": {},
   "outputs": [],
   "source": [
    "dt_model = dt_model.fit(X_train_scaled, y_train)"
   ]
  },
  {
   "cell_type": "code",
   "execution_count": 29,
   "metadata": {},
   "outputs": [],
   "source": [
    "predictions_tree= dt_model.predict(X_test_scaled)"
   ]
  },
  {
   "cell_type": "code",
   "execution_count": 30,
   "metadata": {},
   "outputs": [],
   "source": [
    "cm_tree= confusion_matrix(y_test, predictions_tree)"
   ]
  },
  {
   "cell_type": "code",
   "execution_count": 31,
   "metadata": {},
   "outputs": [],
   "source": [
    "cm_tree_df= pd.DataFrame(cm_tree, index=[\"Actual 0\", \"Actual 1\"], columns= ['Predicted 0', 'Predicted 1'])\n",
    "\n",
    "dt_acc_score = accuracy_score(y_test, predictions_tree)"
   ]
  },
  {
   "cell_type": "code",
   "execution_count": 32,
   "metadata": {},
   "outputs": [
    {
     "name": "stdout",
     "output_type": "stream",
     "text": [
      "Confusion Matrix\n"
     ]
    },
    {
     "data": {
      "text/html": [
       "<div>\n",
       "<style scoped>\n",
       "    .dataframe tbody tr th:only-of-type {\n",
       "        vertical-align: middle;\n",
       "    }\n",
       "\n",
       "    .dataframe tbody tr th {\n",
       "        vertical-align: top;\n",
       "    }\n",
       "\n",
       "    .dataframe thead th {\n",
       "        text-align: right;\n",
       "    }\n",
       "</style>\n",
       "<table border=\"1\" class=\"dataframe\">\n",
       "  <thead>\n",
       "    <tr style=\"text-align: right;\">\n",
       "      <th></th>\n",
       "      <th>Predicted 0</th>\n",
       "      <th>Predicted 1</th>\n",
       "    </tr>\n",
       "  </thead>\n",
       "  <tbody>\n",
       "    <tr>\n",
       "      <th>Actual 0</th>\n",
       "      <td>1020</td>\n",
       "      <td>0</td>\n",
       "    </tr>\n",
       "    <tr>\n",
       "      <th>Actual 1</th>\n",
       "      <td>0</td>\n",
       "      <td>1011</td>\n",
       "    </tr>\n",
       "  </tbody>\n",
       "</table>\n",
       "</div>"
      ],
      "text/plain": [
       "          Predicted 0  Predicted 1\n",
       "Actual 0         1020            0\n",
       "Actual 1            0         1011"
      ]
     },
     "metadata": {},
     "output_type": "display_data"
    },
    {
     "name": "stdout",
     "output_type": "stream",
     "text": [
      "Accuracy Score : 1.0\n",
      "Classification Report\n",
      "              precision    recall  f1-score   support\n",
      "\n",
      "      edible       1.00      1.00      1.00      1020\n",
      "   poisonous       1.00      1.00      1.00      1011\n",
      "\n",
      "    accuracy                           1.00      2031\n",
      "   macro avg       1.00      1.00      1.00      2031\n",
      "weighted avg       1.00      1.00      1.00      2031\n",
      "\n"
     ]
    }
   ],
   "source": [
    "print(\"Confusion Matrix\")\n",
    "display(cm_tree_df)\n",
    "print(f\"Accuracy Score : {dt_acc_score}\")\n",
    "print(\"Classification Report\")\n",
    "print(classification_report(y_test, predictions_tree))"
   ]
  },
  {
   "cell_type": "markdown",
   "metadata": {},
   "source": [
    "## Correlation Matrix"
   ]
  },
  {
   "cell_type": "code",
   "execution_count": 33,
   "metadata": {},
   "outputs": [],
   "source": [
    "df_corr = pd.get_dummies(df)\n",
    "corr_var = df_corr.corr()\n",
    "corr_var.to_csv(\"Resources/correlation.csv\")"
   ]
  },
  {
   "cell_type": "markdown",
   "metadata": {},
   "source": [
    "## Feature Importance"
   ]
  },
  {
   "cell_type": "code",
   "execution_count": 34,
   "metadata": {},
   "outputs": [
    {
     "data": {
      "text/plain": [
       "[(0.13012935099570153, 'odor_none'),\n",
       " (0.07283162934783789, 'odor_foul'),\n",
       " (0.055723874401817634, 'gill-size_narrow'),\n",
       " (0.05325061248103122, 'gill-size_broad'),\n",
       " (0.0448179124240506, 'stalk-surface-above-ring_silky'),\n",
       " (0.04247909420582049, 'gill-color_buff'),\n",
       " (0.04204008365464474, 'spore-print-color_chocolate'),\n",
       " (0.03787649332020073, 'stalk-surface-below-ring_silky'),\n",
       " (0.03672184603776665, 'ring-type_pendant'),\n",
       " (0.03159612925685357, 'bruises_bruises'),\n",
       " (0.023855666306412192, 'bruises_no_bruises'),\n",
       " (0.02113465905263289, 'population_several'),\n",
       " (0.020717578378130635, 'gill-spacing_crowded'),\n",
       " (0.019196738673851178, 'ring-type_large'),\n",
       " (0.01918122215237451, 'stalk-surface-above-ring_smooth'),\n",
       " (0.01868070116796564, 'gill-spacing_close'),\n",
       " (0.01784803855582144, 'stalk-root_equal'),\n",
       " (0.014443275108543747, 'odor_pungent'),\n",
       " (0.013819639182641388, 'spore-print-color_white'),\n",
       " (0.013734087521415342, 'stalk-root_bulbous'),\n",
       " (0.01301766352724735, 'stalk-shape_tapering'),\n",
       " (0.012009992903334222, 'stalk-surface-below-ring_smooth'),\n",
       " (0.011204743456968026, 'stalk-shape_enlarging'),\n",
       " (0.010287774207985075, 'odor_creosote'),\n",
       " (0.00948827456707534, 'stalk-root_missing'),\n",
       " (0.009241725194584636, 'spore-print-color_black'),\n",
       " (0.009221817291711282, 'spore-print-color_green'),\n",
       " (0.008475321672381535, 'habitat_urban'),\n",
       " (0.008461684537530953, 'habitat_grasses'),\n",
       " (0.008404586200283292, 'stalk-root_club'),\n",
       " (0.007813833924054424, 'ring-number_two'),\n",
       " (0.007791980677628681, 'ring-type_evanescent'),\n",
       " (0.007742897811790187, 'habitat_woods'),\n",
       " (0.007717469667600246, 'spore-print-color_brown'),\n",
       " (0.00616175518204663, 'stalk-surface-below-ring_fibrous'),\n",
       " (0.006040322438809292, 'odor_anise'),\n",
       " (0.006004824345572521, 'cap-surface_fibrous'),\n",
       " (0.00596978386345238, 'stalk-color-above-ring_white'),\n",
       " (0.005185082197942442, 'cap-surface_smooth'),\n",
       " (0.005164914205948341, 'ring-number_one'),\n",
       " (0.004825527552267219, 'odor_almond'),\n",
       " (0.004814136576701595, 'cap-color_yellow'),\n",
       " (0.004528270267880282, 'stalk-color-below-ring_white'),\n",
       " (0.003736329586734772, 'population_scattered'),\n",
       " (0.0036057387961947597, 'habitat_paths'),\n",
       " (0.0035135757050835823, 'stalk-surface-below-ring_scaly'),\n",
       " (0.003480935271285517, 'odor_spicy'),\n",
       " (0.0031466965694300917, 'cap-color_buff'),\n",
       " (0.0030155586689518364, 'stalk-surface-above-ring_fibrous'),\n",
       " (0.0029305228122381488, 'odor_fishy'),\n",
       " (0.0027612831603911155, 'habitat_meadows'),\n",
       " (0.002759756657615658, 'cap-shape_bell'),\n",
       " (0.0027306105289295634, 'population_numerous'),\n",
       " (0.002661768275043552, 'cap-color_white'),\n",
       " (0.002568552164926441, 'population_solitary'),\n",
       " (0.0022869693843043932, 'cap-surface_scaly'),\n",
       " (0.0022385644102308686, 'gill-color_white'),\n",
       " (0.0019132488231269557, 'gill-color_green'),\n",
       " (0.001895590809177828, 'stalk-color-above-ring_brown'),\n",
       " (0.0017196196337980123, 'stalk-color-above-ring_pink'),\n",
       " (0.001699222263860064, 'stalk-root_rooted'),\n",
       " (0.0016884212063859958, 'ring-type_flaring'),\n",
       " (0.0016837643301179962, 'cap-color_pink'),\n",
       " (0.001628545905233473, 'stalk-color-below-ring_buff'),\n",
       " (0.001551636670874888, 'stalk-color-below-ring_pink'),\n",
       " (0.0015217270990231632, 'population_abundant'),\n",
       " (0.0014562749076770718, 'stalk-color-below-ring_brown'),\n",
       " (0.0014232768911831538, 'spore-print-color_purple'),\n",
       " (0.0014115802578490838, 'stalk-color-above-ring_buff'),\n",
       " (0.001348560536631284, 'gill-color_brown'),\n",
       " (0.001288870261204593, 'cap-color_brown'),\n",
       " (0.0012536929972143346, 'gill-color_chocolate'),\n",
       " (0.001243212514654025, 'habitat_leaves'),\n",
       " (0.0011741916656158311, 'cap-color_red'),\n",
       " (0.0011617794774437596, 'stalk-color-below-ring_orange'),\n",
       " (0.0011551234406683337, 'stalk-color-below-ring_gray'),\n",
       " (0.0011487241017578336, 'stalk-color-above-ring_orange'),\n",
       " (0.0010724320013420785, 'habitat_waste'),\n",
       " (0.001013473539415484, 'stalk-color-below-ring_yellow'),\n",
       " (0.0009893245821350814, 'gill-attachment_attached'),\n",
       " (0.000906396106095514, 'cap-shape_flat'),\n",
       " (0.000891486331302812, 'gill-attachment_free'),\n",
       " (0.0008871589107070912, 'population_clustered'),\n",
       " (0.0008820938863587522, 'veil-color_white'),\n",
       " (0.0008748199380868846, 'cap-color_gray'),\n",
       " (0.0008741723705848888, 'stalk-color-above-ring_gray'),\n",
       " (0.000866382662224766, 'stalk-color-below-ring_cinnamon'),\n",
       " (0.0008159205402929147, 'cap-shape_convex'),\n",
       " (0.0007759600383837609, 'ring-type_none'),\n",
       " (0.0007299904394858241, 'ring-number_none'),\n",
       " (0.0007133325066354139, 'gill-color_gray'),\n",
       " (0.0006846505444453896, 'odor_musty'),\n",
       " (0.000676931940731822, 'stalk-color-above-ring_cinnamon'),\n",
       " (0.0006212618474890067, 'gill-color_red'),\n",
       " (0.0005791850563204271, 'cap-shape_knobbed'),\n",
       " (0.0005579298030253451, 'gill-color_purple'),\n",
       " (0.0005373415483034317, 'gill-color_black'),\n",
       " (0.0004113064434104881, 'cap-color_cinnamon'),\n",
       " (0.0003982686069590615, 'cap-shape_sunken'),\n",
       " (0.0003475149549872494, 'stalk-color-above-ring_red'),\n",
       " (0.0003155121214981718, 'stalk-surface-above-ring_scaly'),\n",
       " (0.00031149223653176484, 'stalk-color-below-ring_red'),\n",
       " (0.00028411746362262756, 'gill-color_pink'),\n",
       " (0.000259585102741012, 'stalk-color-above-ring_yellow'),\n",
       " (0.00022749299775394287, 'veil-color_brown'),\n",
       " (0.00021120282434790189, 'gill-color_yellow'),\n",
       " (0.00019930277381102697, 'veil-color_yellow'),\n",
       " (0.0001615445657751395, 'veil-color_orange'),\n",
       " (0.00015383964443826237, 'cap-color_purple'),\n",
       " (0.00010956550680608508, 'cap-color_green'),\n",
       " (9.057033161269232e-05, 'cap-shape_conical'),\n",
       " (4.839734897741088e-05, 'cap-surface_grooves'),\n",
       " (3.811853523374981e-05, 'spore-print-color_orange'),\n",
       " (1.6785002375183545e-05, 'spore-print-color_buff'),\n",
       " (8.194647026856035e-06, 'gill-color_orange'),\n",
       " (4.01755670142372e-09, 'spore-print-color_yellow')]"
      ]
     },
     "execution_count": 34,
     "metadata": {},
     "output_type": "execute_result"
    }
   ],
   "source": [
    "importances = rf_model.feature_importances_\n",
    "sorted(zip(rf_model.feature_importances_, X.columns), reverse=True)"
   ]
  },
  {
   "cell_type": "code",
   "execution_count": 35,
   "metadata": {},
   "outputs": [
    {
     "data": {
      "text/plain": [
       "<Axes: title={'center': 'Features Importances'}, ylabel='1'>"
      ]
     },
     "execution_count": 35,
     "metadata": {},
     "output_type": "execute_result"
    },
    {
     "data": {
      "image/png": "[encoded data removed]",
      "text/plain": [
       "<Figure size 640x480 with 1 Axes>"
      ]
     },
     "metadata": {},
     "output_type": "display_data"
    }
   ],
   "source": [
    "importances_df = pd.DataFrame(sorted(zip(rf_model.feature_importances_, X.columns), reverse=True))\n",
    "importances_df.set_index(importances_df[1], inplace=True)\n",
    "importances_df.drop(columns=1, inplace=True)\n",
    "importances_df.rename(columns={0: 'Feature_Importances'}, inplace=True)\n",
    "importances_sorted = importances_df.sort_values(by='Feature_Importances')\n",
    "importances_sorted = importances_sorted.loc[importances_sorted.Feature_Importances>0.01]\n",
    "importances_sorted.plot(kind='barh', color='mediumaquamarine', title= 'Features Importances', legend=False)"
   ]
  },
  {
   "cell_type": "markdown",
   "metadata": {},
   "source": [
    "## Filtering Out Top Features to Train Model"
   ]
  },
  {
   "cell_type": "code",
   "execution_count": 36,
   "metadata": {},
   "outputs": [
    {
     "data": {
      "text/html": [
       "<div>\n",
       "<style scoped>\n",
       "    .dataframe tbody tr th:only-of-type {\n",
       "        vertical-align: middle;\n",
       "    }\n",
       "\n",
       "    .dataframe tbody tr th {\n",
       "        vertical-align: top;\n",
       "    }\n",
       "\n",
       "    .dataframe thead th {\n",
       "        text-align: right;\n",
       "    }\n",
       "</style>\n",
       "<table border=\"1\" class=\"dataframe\">\n",
       "  <thead>\n",
       "    <tr style=\"text-align: right;\">\n",
       "      <th></th>\n",
       "      <th>class</th>\n",
       "      <th>odor</th>\n",
       "      <th>gill-size</th>\n",
       "      <th>gill-color</th>\n",
       "      <th>stalk-surface-above-ring</th>\n",
       "      <th>spore-print-color</th>\n",
       "      <th>stalk-surface-below-ring</th>\n",
       "      <th>bruises</th>\n",
       "      <th>gill-spacing</th>\n",
       "      <th>population</th>\n",
       "      <th>stalk-root</th>\n",
       "      <th>stalk-shape</th>\n",
       "      <th>ring-type</th>\n",
       "    </tr>\n",
       "  </thead>\n",
       "  <tbody>\n",
       "    <tr>\n",
       "      <th>0</th>\n",
       "      <td>poisonous</td>\n",
       "      <td>pungent</td>\n",
       "      <td>narrow</td>\n",
       "      <td>black</td>\n",
       "      <td>smooth</td>\n",
       "      <td>black</td>\n",
       "      <td>smooth</td>\n",
       "      <td>bruises</td>\n",
       "      <td>close</td>\n",
       "      <td>scattered</td>\n",
       "      <td>equal</td>\n",
       "      <td>enlarging</td>\n",
       "      <td>pendant</td>\n",
       "    </tr>\n",
       "    <tr>\n",
       "      <th>1</th>\n",
       "      <td>edible</td>\n",
       "      <td>almond</td>\n",
       "      <td>broad</td>\n",
       "      <td>black</td>\n",
       "      <td>smooth</td>\n",
       "      <td>brown</td>\n",
       "      <td>smooth</td>\n",
       "      <td>bruises</td>\n",
       "      <td>close</td>\n",
       "      <td>numerous</td>\n",
       "      <td>club</td>\n",
       "      <td>enlarging</td>\n",
       "      <td>pendant</td>\n",
       "    </tr>\n",
       "    <tr>\n",
       "      <th>2</th>\n",
       "      <td>edible</td>\n",
       "      <td>anise</td>\n",
       "      <td>broad</td>\n",
       "      <td>brown</td>\n",
       "      <td>smooth</td>\n",
       "      <td>brown</td>\n",
       "      <td>smooth</td>\n",
       "      <td>bruises</td>\n",
       "      <td>close</td>\n",
       "      <td>numerous</td>\n",
       "      <td>club</td>\n",
       "      <td>enlarging</td>\n",
       "      <td>pendant</td>\n",
       "    </tr>\n",
       "    <tr>\n",
       "      <th>3</th>\n",
       "      <td>poisonous</td>\n",
       "      <td>pungent</td>\n",
       "      <td>narrow</td>\n",
       "      <td>brown</td>\n",
       "      <td>smooth</td>\n",
       "      <td>black</td>\n",
       "      <td>smooth</td>\n",
       "      <td>bruises</td>\n",
       "      <td>close</td>\n",
       "      <td>scattered</td>\n",
       "      <td>equal</td>\n",
       "      <td>enlarging</td>\n",
       "      <td>pendant</td>\n",
       "    </tr>\n",
       "    <tr>\n",
       "      <th>4</th>\n",
       "      <td>edible</td>\n",
       "      <td>none</td>\n",
       "      <td>broad</td>\n",
       "      <td>black</td>\n",
       "      <td>smooth</td>\n",
       "      <td>brown</td>\n",
       "      <td>smooth</td>\n",
       "      <td>no_bruises</td>\n",
       "      <td>crowded</td>\n",
       "      <td>abundant</td>\n",
       "      <td>equal</td>\n",
       "      <td>tapering</td>\n",
       "      <td>evanescent</td>\n",
       "    </tr>\n",
       "  </tbody>\n",
       "</table>\n",
       "</div>"
      ],
      "text/plain": [
       "       class     odor gill-size gill-color stalk-surface-above-ring  \\\n",
       "0  poisonous  pungent    narrow      black                   smooth   \n",
       "1     edible   almond     broad      black                   smooth   \n",
       "2     edible    anise     broad      brown                   smooth   \n",
       "3  poisonous  pungent    narrow      brown                   smooth   \n",
       "4     edible     none     broad      black                   smooth   \n",
       "\n",
       "  spore-print-color stalk-surface-below-ring     bruises gill-spacing  \\\n",
       "0             black                   smooth     bruises        close   \n",
       "1             brown                   smooth     bruises        close   \n",
       "2             brown                   smooth     bruises        close   \n",
       "3             black                   smooth     bruises        close   \n",
       "4             brown                   smooth  no_bruises      crowded   \n",
       "\n",
       "  population stalk-root stalk-shape   ring-type  \n",
       "0  scattered      equal   enlarging     pendant  \n",
       "1   numerous       club   enlarging     pendant  \n",
       "2   numerous       club   enlarging     pendant  \n",
       "3  scattered      equal   enlarging     pendant  \n",
       "4   abundant      equal    tapering  evanescent  "
      ]
     },
     "execution_count": 36,
     "metadata": {},
     "output_type": "execute_result"
    }
   ],
   "source": [
    "imp_feat_df = df[[\n",
    "    \"class\", \"odor\", \"gill-size\", \"gill-color\", \"stalk-surface-above-ring\", \"spore-print-color\",\n",
    "    \"stalk-surface-below-ring\", \"bruises\", \"gill-spacing\", \"population\", \"stalk-root\", \"stalk-shape\", \"ring-type\"]]\n",
    "imp_feat_df.head()"
   ]
  },
  {
   "cell_type": "code",
   "execution_count": 37,
   "metadata": {},
   "outputs": [],
   "source": [
    "top_y = imp_feat_df['class']\n",
    "top_X = imp_feat_df.drop(columns='class')\n",
    "top_X = pd.get_dummies(top_X)"
   ]
  },
  {
   "cell_type": "code",
   "execution_count": 38,
   "metadata": {},
   "outputs": [],
   "source": [
    "top_X_train, top_X_test, top_y_train, top_y_test = train_test_split(top_X, top_y, random_state=1)"
   ]
  },
  {
   "cell_type": "code",
   "execution_count": 39,
   "metadata": {},
   "outputs": [
    {
     "data": {
      "text/plain": [
       "(6093, 62)"
      ]
     },
     "execution_count": 39,
     "metadata": {},
     "output_type": "execute_result"
    }
   ],
   "source": [
    "top_X_train.shape"
   ]
  },
  {
   "cell_type": "code",
   "execution_count": 40,
   "metadata": {},
   "outputs": [
    {
     "data": {
      "text/plain": [
       "(2031, 62)"
      ]
     },
     "execution_count": 40,
     "metadata": {},
     "output_type": "execute_result"
    }
   ],
   "source": [
    "top_X_test.shape"
   ]
  },
  {
   "cell_type": "code",
   "execution_count": 41,
   "metadata": {},
   "outputs": [],
   "source": [
    "top_X_scaler = scaler.fit(top_X_train)\n",
    "\n",
    "top_X_train_scaled = top_X_scaler.transform(top_X_train)\n",
    "top_X_test_scaled = top_X_scaler.transform(top_X_test)"
   ]
  },
  {
   "cell_type": "code",
   "execution_count": 42,
   "metadata": {},
   "outputs": [],
   "source": [
    "top_model = tree.DecisionTreeClassifier()\n",
    "top_model = top_model.fit(top_X_train_scaled, top_y_train)"
   ]
  },
  {
   "cell_type": "code",
   "execution_count": 43,
   "metadata": {},
   "outputs": [],
   "source": [
    "top_pred_tree = top_model.predict(top_X_test_scaled)"
   ]
  },
  {
   "cell_type": "code",
   "execution_count": 44,
   "metadata": {},
   "outputs": [],
   "source": [
    "top_cm_tree = confusion_matrix(top_y_test, top_pred_tree)\n",
    "top_cm_tree_df= pd.DataFrame(top_cm_tree, index=[\"Actual 0\", \"Actual 1\"], columns= ['Predicted 0', 'Predicted 1'])\n",
    "top_acc_score = accuracy_score(top_y_test, top_pred_tree)"
   ]
  },
  {
   "cell_type": "code",
   "execution_count": 45,
   "metadata": {},
   "outputs": [
    {
     "name": "stdout",
     "output_type": "stream",
     "text": [
      "Confusion Matrix\n"
     ]
    },
    {
     "data": {
      "text/html": [
       "<div>\n",
       "<style scoped>\n",
       "    .dataframe tbody tr th:only-of-type {\n",
       "        vertical-align: middle;\n",
       "    }\n",
       "\n",
       "    .dataframe tbody tr th {\n",
       "        vertical-align: top;\n",
       "    }\n",
       "\n",
       "    .dataframe thead th {\n",
       "        text-align: right;\n",
       "    }\n",
       "</style>\n",
       "<table border=\"1\" class=\"dataframe\">\n",
       "  <thead>\n",
       "    <tr style=\"text-align: right;\">\n",
       "      <th></th>\n",
       "      <th>Predicted 0</th>\n",
       "      <th>Predicted 1</th>\n",
       "    </tr>\n",
       "  </thead>\n",
       "  <tbody>\n",
       "    <tr>\n",
       "      <th>Actual 0</th>\n",
       "      <td>1020</td>\n",
       "      <td>0</td>\n",
       "    </tr>\n",
       "    <tr>\n",
       "      <th>Actual 1</th>\n",
       "      <td>0</td>\n",
       "      <td>1011</td>\n",
       "    </tr>\n",
       "  </tbody>\n",
       "</table>\n",
       "</div>"
      ],
      "text/plain": [
       "          Predicted 0  Predicted 1\n",
       "Actual 0         1020            0\n",
       "Actual 1            0         1011"
      ]
     },
     "metadata": {},
     "output_type": "display_data"
    },
    {
     "name": "stdout",
     "output_type": "stream",
     "text": [
      "Accuracy Score : 1.0\n",
      "Classification Report\n",
      "              precision    recall  f1-score   support\n",
      "\n",
      "      edible       1.00      1.00      1.00      1020\n",
      "   poisonous       1.00      1.00      1.00      1011\n",
      "\n",
      "    accuracy                           1.00      2031\n",
      "   macro avg       1.00      1.00      1.00      2031\n",
      "weighted avg       1.00      1.00      1.00      2031\n",
      "\n"
     ]
    }
   ],
   "source": [
    "print(\"Confusion Matrix\")\n",
    "display(top_cm_tree_df)\n",
    "print(f\"Accuracy Score : {top_acc_score}\")\n",
    "print(\"Classification Report\")\n",
    "print(classification_report(top_y_test, top_pred_tree))"
   ]
  },
  {
   "cell_type": "code",
   "execution_count": null,
   "metadata": {},
   "outputs": [],
   "source": []
  }
 ],
 "metadata": {
  "kernelspec": {
   "display_name": "EdX",
   "language": "python",
   "name": "python3"
  },
  "language_info": {
   "codemirror_mode": {
    "name": "ipython",
    "version": 3
   },
   "file_extension": ".py",
   "mimetype": "text/x-python",
   "name": "python",
   "nbconvert_exporter": "python",
   "pygments_lexer": "ipython3",
   "version": "3.10.11"
  }
 },
 "nbformat": 4,
 "nbformat_minor": 2
}
